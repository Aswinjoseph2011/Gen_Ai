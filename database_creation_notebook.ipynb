{
 "cells": [
  {
   "cell_type": "code",
   "execution_count": 28,
   "metadata": {},
   "outputs": [],
   "source": [
    "# !pip install llama-index openai langchain-community langchain"
   ]
  },
  {
   "cell_type": "code",
   "execution_count": 4,
   "metadata": {},
   "outputs": [],
   "source": [
    "# Import necessary packages\n",
    "from llama_index.llms.openai import OpenAI\n",
    "from llama_index.core import VectorStoreIndex,SimpleDirectoryReader\n",
    "from IPython.display import Markdown, display\n",
    "import os\n",
    "from langchain.schema import Document\n"
   ]
  },
  {
   "cell_type": "code",
   "execution_count": 3,
   "metadata": {},
   "outputs": [],
   "source": [
    "os.environ[\"OPENAI_API_KEY\"] = \"Type your api key\""
   ]
  },
  {
   "cell_type": "code",
   "execution_count": 5,
   "metadata": {},
   "outputs": [],
   "source": [
    "ABS_PATH = os.getcwd()\n",
    "DB_DIR = os.path.join(ABS_PATH, \"data\")"
   ]
  },
  {
   "cell_type": "code",
   "execution_count": 6,
   "metadata": {},
   "outputs": [
    {
     "name": "stdout",
     "output_type": "stream",
     "text": [
      "-----------------------------------------------------------------------\n",
      "[Document(id_='e4f3e0d1-6cc1-4ecd-9bea-01ea2ea08b1e', embedding=None, metadata={'page_label': '1', 'file_name': 'airline.pdf', 'file_path': 'c:\\\\Users\\\\DELL\\\\Documents\\\\Aswinjoseph\\\\Channel\\\\Genai\\\\data\\\\airline.pdf', 'file_type': 'application/pdf', 'file_size': 310105, 'creation_date': '2024-08-09', 'last_modified_date': '2024-07-11'}, excluded_embed_metadata_keys=['file_name', 'file_type', 'file_size', 'creation_date', 'last_modified_date', 'last_accessed_date'], excluded_llm_metadata_keys=['file_name', 'file_type', 'file_size', 'creation_date', 'last_modified_date', 'last_accessed_date'], relationships={}, text=\"Welcome to Horizon Airlines!\\nHorizon Airlines -Your Gateway to the World\\nAt Horizon Airlines, we're committed to providing you with a smooth and enjoyable travel \\nexperience. Whether you're flying for business or leisure, we offer a variety of destinations and \\nservices to meet your needs.\\nAirport Information:\\nHorizon Hub: Horizon International Airport (HIA)\\nHorizon International Airport (HIA) is our primary hub and serves as the main connection point \\nfor our domestic and international network. HIA offers a wide range of amenities and services \\nfor travelers, including:\\nMultiple terminals: Designed for a seamless passenger experience with clear signage and easy \\nnavigation.\\nModern security screening facilities: Utilizing advanced technology for efficient and secure \\npassenger processing.\\nConcourse shops and restaurants: Explore a variety of shops and restaurants catering to diverse \\ntastes.\\nRelaxation and business centers: Comfortable spaces to unwind or catch up on work before \\nyour flight.\\nCurrency exchange and ATMs: Convenient services to manage your travel funds.\\nFree Wi-Fi: Stay connected throughout your time at the airport.\\nFlight Information:\\n1\", mimetype='text/plain', start_char_idx=None, end_char_idx=None, text_template='{metadata_str}\\n\\n{content}', metadata_template='{key}: {value}', metadata_seperator='\\n'), Document(id_='2bf49e48-dabf-4f8f-b305-e6972b9e40aa', embedding=None, metadata={'page_label': '2', 'file_name': 'airline.pdf', 'file_path': 'c:\\\\Users\\\\DELL\\\\Documents\\\\Aswinjoseph\\\\Channel\\\\Genai\\\\data\\\\airline.pdf', 'file_type': 'application/pdf', 'file_size': 310105, 'creation_date': '2024-08-09', 'last_modified_date': '2024-07-11'}, excluded_embed_metadata_keys=['file_name', 'file_type', 'file_size', 'creation_date', 'last_modified_date', 'last_accessed_date'], excluded_llm_metadata_keys=['file_name', 'file_type', 'file_size', 'creation_date', 'last_modified_date', 'last_accessed_date'], relationships={}, text='Real-time Flight Status:\\nStay informed about your upcoming flight with our real-time flight status board below. The \\ninformation is updated frequently throughout the day.\\nSample Flight Information Table:\\nFlight Number Departure Airport Arrival Airport Departure Time (Scheduled) Arrival \\nTime (Scheduled) Boarding Gate Status\\nHZ1234Horizon International Airport (HIA) Sunnyvale International Airport (SIA) 10:00 \\nAM 11:30 AM Gate C14 On Time\\nHZ5678Horizon International Airport (HIA) Tokyo International Airport (TIA) 02:30 \\nPM 08:00 PM (Next Day) Gate B22 On Time\\nHZ9012 (Delayed) Miami International Airport (MIA) Horizon International Airport \\n(HIA) 05:45 PM (Delayed) 08:15 PM (Estimated) Gate A07 Delayed (Weather)\\ndrive_spreadsheet\\nExport to Sheets\\nUnderstanding Flight Information:\\nFlight Number: A unique identifier for your specific flight.\\nDeparture Airport: The airport where your flight will take off.\\nArrival Airport: The airport where your flight will land.\\nDeparture Time (Scheduled): The planned time for your flight to take off. Delays may occur due \\nto various factors.\\nArrival Time (Scheduled): The estimated time for your flight to land at its destination. This can \\n2', mimetype='text/plain', start_char_idx=None, end_char_idx=None, text_template='{metadata_str}\\n\\n{content}', metadata_template='{key}: {value}', metadata_seperator='\\n'), Document(id_='2eabf55b-f668-41ad-a72b-664864e9b365', embedding=None, metadata={'page_label': '3', 'file_name': 'airline.pdf', 'file_path': 'c:\\\\Users\\\\DELL\\\\Documents\\\\Aswinjoseph\\\\Channel\\\\Genai\\\\data\\\\airline.pdf', 'file_type': 'application/pdf', 'file_size': 310105, 'creation_date': '2024-08-09', 'last_modified_date': '2024-07-11'}, excluded_embed_metadata_keys=['file_name', 'file_type', 'file_size', 'creation_date', 'last_modified_date', 'last_accessed_date'], excluded_llm_metadata_keys=['file_name', 'file_type', 'file_size', 'creation_date', 'last_modified_date', 'last_accessed_date'], relationships={}, text=\"also be affected by delays.\\nBoarding Gate: The specific gate at the terminal where passengers will board the airplane. Gate \\nassignments may change, so it's important to check the flight information displays or the \\nairline's website or app for the most up-to-date information.\\nStatus: This indicates whether the flight is on time, delayed, cancelled, or diverted. Most airlines \\nuse standardized codes to represent different flight statuses.\\nStaying Informed about Your Flight:\\nCheck the flight information displays at the airport or access our real-time flight status board on \\nour website.\\nSign up for flight status alerts from Horizon Airlines to receive notifications about gate changes \\nor delays directly to your mobile device or email.\\nDownload the Horizon Airlines mobile app for convenient access to real-time flight information, \\nmobile boarding passes, and other travel tools.\\nAdditional Tips:\\nPack light! Most airlines have restrictions on the size and weight of carry-on and checked \\nbaggage.\\nAllow extra time for security and boarding procedures.\\nReview the Horizon Airlines website for information about prohibited items, check-in options, \\nand other travel policies.\\nWe wish you a pleasant flight with Horizon Airlines!\\nThis example provides a realistic structure and information for an airline's website, \\nincorporating details relevant to a fictional Horizon International Airport and Horizon Airlines. \\nYou can customize this further with specific amenities, destinations, or branding elements to \\ncreate a more immersive and detailed experience.\\n3\", mimetype='text/plain', start_char_idx=None, end_char_idx=None, text_template='{metadata_str}\\n\\n{content}', metadata_template='{key}: {value}', metadata_seperator='\\n')]\n"
     ]
    }
   ],
   "source": [
    "data = DB_DIR\n",
    "documents = SimpleDirectoryReader(data).load_data()\n",
    "print(\"-----------------------------------------------------------------------\")\n",
    "print(documents)"
   ]
  },
  {
   "cell_type": "code",
   "execution_count": 7,
   "metadata": {},
   "outputs": [],
   "source": [
    "# Define allowed data types (e.g., only keep strings, integers, and floats)\n",
    "allowed_types = (str, int, float, bool)\n",
    "\n",
    "# Recursive function to filter metadata\n",
    "def filter_metadata(metadata, allowed_types):\n",
    "    if isinstance(metadata, dict):\n",
    "        return {k: v for k, v in metadata.items() if isinstance(v, allowed_types)}\n",
    "    elif isinstance(metadata, list):\n",
    "        return [v for v in metadata if isinstance(v, allowed_types)]\n",
    "    else:\n",
    "        return metadata if isinstance(metadata, allowed_types) else None\n",
    "\n",
    "# Apply the filter function to each document\n",
    "filtered_documents = [\n",
    "    Document(page_content=doc.text, metadata=filter_metadata(doc.metadata, allowed_types))\n",
    "    for doc in documents\n",
    "]"
   ]
  },
  {
   "cell_type": "code",
   "execution_count": 8,
   "metadata": {},
   "outputs": [
    {
     "data": {
      "text/plain": [
       "[Document(metadata={'page_label': '1', 'file_name': 'airline.pdf', 'file_path': 'c:\\\\Users\\\\DELL\\\\Documents\\\\Aswinjoseph\\\\Channel\\\\Genai\\\\data\\\\airline.pdf', 'file_type': 'application/pdf', 'file_size': 310105, 'creation_date': '2024-08-09', 'last_modified_date': '2024-07-11'}, page_content=\"Welcome to Horizon Airlines!\\nHorizon Airlines -Your Gateway to the World\\nAt Horizon Airlines, we're committed to providing you with a smooth and enjoyable travel \\nexperience. Whether you're flying for business or leisure, we offer a variety of destinations and \\nservices to meet your needs.\\nAirport Information:\\nHorizon Hub: Horizon International Airport (HIA)\\nHorizon International Airport (HIA) is our primary hub and serves as the main connection point \\nfor our domestic and international network. HIA offers a wide range of amenities and services \\nfor travelers, including:\\nMultiple terminals: Designed for a seamless passenger experience with clear signage and easy \\nnavigation.\\nModern security screening facilities: Utilizing advanced technology for efficient and secure \\npassenger processing.\\nConcourse shops and restaurants: Explore a variety of shops and restaurants catering to diverse \\ntastes.\\nRelaxation and business centers: Comfortable spaces to unwind or catch up on work before \\nyour flight.\\nCurrency exchange and ATMs: Convenient services to manage your travel funds.\\nFree Wi-Fi: Stay connected throughout your time at the airport.\\nFlight Information:\\n1\"),\n",
       " Document(metadata={'page_label': '2', 'file_name': 'airline.pdf', 'file_path': 'c:\\\\Users\\\\DELL\\\\Documents\\\\Aswinjoseph\\\\Channel\\\\Genai\\\\data\\\\airline.pdf', 'file_type': 'application/pdf', 'file_size': 310105, 'creation_date': '2024-08-09', 'last_modified_date': '2024-07-11'}, page_content='Real-time Flight Status:\\nStay informed about your upcoming flight with our real-time flight status board below. The \\ninformation is updated frequently throughout the day.\\nSample Flight Information Table:\\nFlight Number Departure Airport Arrival Airport Departure Time (Scheduled) Arrival \\nTime (Scheduled) Boarding Gate Status\\nHZ1234Horizon International Airport (HIA) Sunnyvale International Airport (SIA) 10:00 \\nAM 11:30 AM Gate C14 On Time\\nHZ5678Horizon International Airport (HIA) Tokyo International Airport (TIA) 02:30 \\nPM 08:00 PM (Next Day) Gate B22 On Time\\nHZ9012 (Delayed) Miami International Airport (MIA) Horizon International Airport \\n(HIA) 05:45 PM (Delayed) 08:15 PM (Estimated) Gate A07 Delayed (Weather)\\ndrive_spreadsheet\\nExport to Sheets\\nUnderstanding Flight Information:\\nFlight Number: A unique identifier for your specific flight.\\nDeparture Airport: The airport where your flight will take off.\\nArrival Airport: The airport where your flight will land.\\nDeparture Time (Scheduled): The planned time for your flight to take off. Delays may occur due \\nto various factors.\\nArrival Time (Scheduled): The estimated time for your flight to land at its destination. This can \\n2'),\n",
       " Document(metadata={'page_label': '3', 'file_name': 'airline.pdf', 'file_path': 'c:\\\\Users\\\\DELL\\\\Documents\\\\Aswinjoseph\\\\Channel\\\\Genai\\\\data\\\\airline.pdf', 'file_type': 'application/pdf', 'file_size': 310105, 'creation_date': '2024-08-09', 'last_modified_date': '2024-07-11'}, page_content=\"also be affected by delays.\\nBoarding Gate: The specific gate at the terminal where passengers will board the airplane. Gate \\nassignments may change, so it's important to check the flight information displays or the \\nairline's website or app for the most up-to-date information.\\nStatus: This indicates whether the flight is on time, delayed, cancelled, or diverted. Most airlines \\nuse standardized codes to represent different flight statuses.\\nStaying Informed about Your Flight:\\nCheck the flight information displays at the airport or access our real-time flight status board on \\nour website.\\nSign up for flight status alerts from Horizon Airlines to receive notifications about gate changes \\nor delays directly to your mobile device or email.\\nDownload the Horizon Airlines mobile app for convenient access to real-time flight information, \\nmobile boarding passes, and other travel tools.\\nAdditional Tips:\\nPack light! Most airlines have restrictions on the size and weight of carry-on and checked \\nbaggage.\\nAllow extra time for security and boarding procedures.\\nReview the Horizon Airlines website for information about prohibited items, check-in options, \\nand other travel policies.\\nWe wish you a pleasant flight with Horizon Airlines!\\nThis example provides a realistic structure and information for an airline's website, \\nincorporating details relevant to a fictional Horizon International Airport and Horizon Airlines. \\nYou can customize this further with specific amenities, destinations, or branding elements to \\ncreate a more immersive and detailed experience.\\n3\")]"
      ]
     },
     "execution_count": 8,
     "metadata": {},
     "output_type": "execute_result"
    }
   ],
   "source": [
    "filtered_documents"
   ]
  },
  {
   "cell_type": "code",
   "execution_count": 9,
   "metadata": {},
   "outputs": [],
   "source": [
    "from langchain.text_splitter import RecursiveCharacterTextSplitter"
   ]
  },
  {
   "cell_type": "code",
   "execution_count": 10,
   "metadata": {},
   "outputs": [
    {
     "name": "stdout",
     "output_type": "stream",
     "text": [
      "3\n"
     ]
    }
   ],
   "source": [
    "text_splitter = RecursiveCharacterTextSplitter(chunk_size=2048, chunk_overlap=128)\n",
    "docs = text_splitter.split_documents(filtered_documents)\n",
    "print(len(docs))"
   ]
  },
  {
   "cell_type": "code",
   "execution_count": 12,
   "metadata": {},
   "outputs": [],
   "source": [
    "import os\n",
    "from langchain_community.vectorstores import Chroma\n",
    "from langchain.embeddings.openai import OpenAIEmbeddings\n"
   ]
  },
  {
   "cell_type": "code",
   "execution_count": 13,
   "metadata": {},
   "outputs": [
    {
     "name": "stderr",
     "output_type": "stream",
     "text": [
      "c:\\Users\\DELL\\anaconda3\\envs\\multi_modal_rag\\Lib\\site-packages\\langchain_core\\_api\\deprecation.py:139: LangChainDeprecationWarning: The class `OpenAIEmbeddings` was deprecated in LangChain 0.0.9 and will be removed in 0.3.0. An updated version of the class exists in the langchain-openai package and should be used instead. To use it run `pip install -U langchain-openai` and import as `from langchain_openai import OpenAIEmbeddings`.\n",
      "  warn_deprecated(\n",
      "c:\\Users\\DELL\\anaconda3\\envs\\multi_modal_rag\\Lib\\site-packages\\langchain_core\\_api\\deprecation.py:139: LangChainDeprecationWarning: Since Chroma 0.4.x the manual persistence method is no longer supported as docs are automatically persisted.\n",
      "  warn_deprecated(\n"
     ]
    }
   ],
   "source": [
    "ABS_PATH = os.getcwd()\n",
    "DB_DIR = os.path.join(ABS_PATH, \"rag_database\")\n",
    "vectordb = Chroma(persist_directory=DB_DIR, embedding_function=OpenAIEmbeddings())\n",
    "\n",
    "#persist_directory = 'db_shivani1'\n",
    "\n",
    "embeddings = []\n",
    "for document in docs:\n",
    "    embedding = OpenAIEmbeddings(api_key= os.environ[\"OPENAI_API_KEY\"])\n",
    "    embeddings.append(embedding)\n",
    "\n",
    "vectordb.add_documents(documents=docs, embeddings=embeddings) #from_document\n",
    "vectordb.persist()"
   ]
  },
  {
   "cell_type": "code",
   "execution_count": null,
   "metadata": {},
   "outputs": [],
   "source": []
  }
 ],
 "metadata": {
  "kernelspec": {
   "display_name": "multi_modal_rag",
   "language": "python",
   "name": "python3"
  },
  "language_info": {
   "codemirror_mode": {
    "name": "ipython",
    "version": 3
   },
   "file_extension": ".py",
   "mimetype": "text/x-python",
   "name": "python",
   "nbconvert_exporter": "python",
   "pygments_lexer": "ipython3",
   "version": "3.11.7"
  }
 },
 "nbformat": 4,
 "nbformat_minor": 2
}
